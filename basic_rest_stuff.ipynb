{
 "cells": [
  {
   "cell_type": "markdown",
   "metadata": {
    "id": "sIPrCEgSjFYt"
   },
   "source": [
    "# Before you do anything. This should be read only, UNTIL you go to \"file/save a copy in Drive. This will save a r/w copy to YOUR google drive. then you should be able to edit and use this notebook. this is a sample/test for now, please reach out to wnellis@cisco\n",
    "\n",
    "## -----------------------\n",
    "## The format for how this works, is there are 2 cells for each minor step. the first is where I have done it. You can click the triangle to the left of the cell, to run it. Please do not change this part.\n",
    "\n",
    "## The next cell, is where you can type what was done in the cell above, and it should do exactly what was done in the example. you can then run it.\n",
    "## -----------------------\n",
    "\n",
    "## So this is the first step in python. We will import a module called requests, and json. "
   ]
  },
  {
   "cell_type": "code",
   "execution_count": 7,
   "metadata": {
    "id": "iGVIRf-3jFpk"
   },
   "outputs": [],
   "source": [
    "import requests\n",
    "import json"
   ]
  },
  {
   "cell_type": "code",
   "execution_count": null,
   "metadata": {
    "id": "1JbBD-fajF_C"
   },
   "outputs": [],
   "source": [
    "# you do it here"
   ]
  },
  {
   "cell_type": "markdown",
   "metadata": {
    "id": "Yn_W858OjGI3"
   },
   "source": [
    "# The second step we will setup a few items important, like setting the URL. we do this so you dont have to keep retyping it because, we will, fat finger things. so... its better this way\n"
   ]
  },
  {
   "cell_type": "code",
   "execution_count": 2,
   "metadata": {
    "colab": {
     "base_uri": "https://localhost:8080/",
     "height": 34
    },
    "id": "WqW35LySjGYy",
    "outputId": "c1990a1a-c484-473c-c7cf-613d266f386c"
   },
   "outputs": [
    {
     "name": "stdout",
     "output_type": "stream",
     "text": [
      "the new deck url is https://deckofcardsapi.com/api/deck/new/\n"
     ]
    }
   ],
   "source": [
    "baseurl='https://deckofcardsapi.com/api/deck/'\n",
    "newdeck=baseurl + 'new/'\n",
    "badurl=baseurl+ 'bad/'\n",
    "print('the new deck url is '+newdeck)"
   ]
  },
  {
   "cell_type": "code",
   "execution_count": null,
   "metadata": {
    "id": "zsAgFv4RjGiB"
   },
   "outputs": [],
   "source": [
    "# you do it here"
   ]
  },
  {
   "cell_type": "markdown",
   "metadata": {
    "id": "XRuDI-xRjGxj"
   },
   "source": [
    "\n",
    "\n",
    "\n",
    "# This is how easy it is, to get Python request. we will use the same format w/ Meraki and DNAC at some point (although, they have authentication, so, complexity)"
   ]
  },
  {
   "cell_type": "code",
   "execution_count": null,
   "metadata": {
    "colab": {
     "base_uri": "https://localhost:8080/",
     "height": 34
    },
    "id": "CciQ89VnjG6D",
    "outputId": "b119ef48-125e-4908-e84b-0cfa010bcfeb"
   },
   "outputs": [
    {
     "name": "stdout",
     "output_type": "stream",
     "text": [
      "<Response [200]>\n"
     ]
    }
   ],
   "source": [
    "response=requests.get(newdeck)\n",
    "print(response)"
   ]
  },
  {
   "cell_type": "code",
   "execution_count": 3,
   "metadata": {
    "id": "37iAzQlIjG-x"
   },
   "outputs": [
    {
     "name": "stdout",
     "output_type": "stream",
     "text": [
      "<Response [200]>\n"
     ]
    }
   ],
   "source": [
    "# you do it here\n",
    "response=requests.get(newdeck)\n",
    "print(response)"
   ]
  },
  {
   "cell_type": "markdown",
   "metadata": {
    "id": "faSDhNB7jHMh"
   },
   "source": [
    "we can look at whats in it, "
   ]
  },
  {
   "cell_type": "code",
   "execution_count": null,
   "metadata": {
    "colab": {
     "base_uri": "https://localhost:8080/",
     "height": 34
    },
    "id": "l3cNR0iQlI0O",
    "outputId": "39d838a5-bbba-48ff-fba8-b4811ec304cd"
   },
   "outputs": [
    {
     "name": "stdout",
     "output_type": "stream",
     "text": [
      "{\"success\": true, \"deck_id\": \"kyqckzvat0wf\", \"remaining\": 52, \"shuffled\": false}\n"
     ]
    }
   ],
   "source": [
    "print(response.json())"
   ]
  },
  {
   "cell_type": "code",
   "execution_count": 5,
   "metadata": {
    "colab": {
     "base_uri": "https://localhost:8080/",
     "height": 35
    },
    "id": "4XS5iHu9lkGD",
    "outputId": "1a6b484c-8944-48ad-d442-b36c31312452"
   },
   "outputs": [
    {
     "name": "stdout",
     "output_type": "stream",
     "text": [
      "{'success': True, 'deck_id': 'mjs6hfigt7fp', 'remaining': 52, 'shuffled': False}\n"
     ]
    }
   ],
   "source": [
    "# ok now you do it\n",
    "print(response.json())"
   ]
  },
  {
   "cell_type": "markdown",
   "metadata": {
    "id": "89NLvfmOliY2"
   },
   "source": []
  },
  {
   "cell_type": "markdown",
   "metadata": {
    "id": "Mq4DPkcEoJKB"
   },
   "source": [
    "\n",
    "\n",
    "---\n",
    "\n"
   ]
  },
  {
   "cell_type": "markdown",
   "metadata": {
    "id": "En2yNHclmMdu"
   },
   "source": [
    "# That looks great to a robot but it isn't what we need to read easy as humans. so we want to format the json in a pretty format, so we'll do this"
   ]
  },
  {
   "cell_type": "code",
   "execution_count": null,
   "metadata": {
    "colab": {
     "base_uri": "https://localhost:8080/",
     "height": 289
    },
    "id": "WUcSf6YGjHXe",
    "outputId": "cb8514e8-6d13-43db-f300-dd4609010ea3"
   },
   "outputs": [
    {
     "name": "stdout",
     "output_type": "stream",
     "text": [
      "{\n",
      "    \"Date\": \"Mon, 10 Aug 2020 18:14:41 GMT\",\n",
      "    \"Content-Type\": \"application/json\",\n",
      "    \"Transfer-Encoding\": \"chunked\",\n",
      "    \"Connection\": \"keep-alive\",\n",
      "    \"Set-Cookie\": \"__cfduid=dba59331ab2be880013857235aaaf7d4f1597083281; expires=Wed, 09-Sep-20 18:14:41 GMT; path=/; domain=.deckofcardsapi.com; HttpOnly; SameSite=Lax\",\n",
      "    \"Access-Control-Allow-Origin\": \"*\",\n",
      "    \"X-Frame-Options\": \"SAMEORIGIN\",\n",
      "    \"Vary\": \"Origin\",\n",
      "    \"CF-Cache-Status\": \"DYNAMIC\",\n",
      "    \"cf-request-id\": \"047b2dffc60000f5b1e99f4200000001\",\n",
      "    \"Expect-CT\": \"max-age=604800, report-uri=\\\"https://report-uri.cloudflare.com/cdn-cgi/beacon/expect-ct\\\"\",\n",
      "    \"Server\": \"cloudflare\",\n",
      "    \"CF-RAY\": \"5c0bb2ac7ab1f5b1-SEA\",\n",
      "    \"Content-Encoding\": \"gzip\"\n",
      "}\n"
     ]
    }
   ],
   "source": [
    "headers = response.headers\n",
    "print(json.dumps(dict(headers), indent=4))   ### This is more complicated than you would probably need for exam, but, this is good practice"
   ]
  },
  {
   "cell_type": "code",
   "execution_count": 6,
   "metadata": {
    "id": "LEWVHasCoWx_"
   },
   "outputs": [
    {
     "name": "stdout",
     "output_type": "stream",
     "text": [
      "{\n",
      "    \"Date\": \"Wed, 02 Dec 2020 16:08:26 GMT\",\n",
      "    \"Content-Type\": \"application/json\",\n",
      "    \"Transfer-Encoding\": \"chunked\",\n",
      "    \"Connection\": \"keep-alive\",\n",
      "    \"Set-Cookie\": \"__cfduid=d024bb9188ad259a29ee1568e45deeab91606925306; expires=Fri, 01-Jan-21 16:08:26 GMT; path=/; domain=.deckofcardsapi.com; HttpOnly; SameSite=Lax\",\n",
      "    \"Access-Control-Allow-Origin\": \"*\",\n",
      "    \"X-Frame-Options\": \"SAMEORIGIN\",\n",
      "    \"Vary\": \"Origin\",\n",
      "    \"CF-Cache-Status\": \"DYNAMIC\",\n",
      "    \"cf-request-id\": \"06c5cf63ea0000184fb5318000000001\",\n",
      "    \"Expect-CT\": \"max-age=604800, report-uri=\\\"https://report-uri.cloudflare.com/cdn-cgi/beacon/expect-ct\\\"\",\n",
      "    \"Report-To\": \"{\\\"endpoints\\\":[{\\\"url\\\":\\\"https:\\\\/\\\\/a.nel.cloudflare.com\\\\/report?s=FxHF3CBa1Y01WkMNWI3XGNYYmhp3P%2BlHZVb%2FbYJAo%2FqlafL5S1y1ADwnjVUKsd9s6wKjRY75uBAbHwHNrk7pwuWnyuTI3mmaq16y7W439kZ%2Fw84%3D\\\"}],\\\"group\\\":\\\"cf-nel\\\",\\\"max_age\\\":604800}\",\n",
      "    \"NEL\": \"{\\\"report_to\\\":\\\"cf-nel\\\",\\\"max_age\\\":604800}\",\n",
      "    \"Server\": \"cloudflare\",\n",
      "    \"CF-RAY\": \"5fb64e7fda67184f-ATL\",\n",
      "    \"Content-Encoding\": \"gzip\"\n",
      "}\n"
     ]
    }
   ],
   "source": [
    "# you do it here\n",
    "headers = response.headers\n",
    "print(json.dumps(dict(headers), indent=4))\n"
   ]
  },
  {
   "cell_type": "code",
   "execution_count": 8,
   "metadata": {
    "colab": {
     "base_uri": "https://localhost:8080/",
     "height": 34
    },
    "id": "qN9KmTMZoYII",
    "outputId": "7658ce4e-a1d5-44ff-8906-683358c6091d"
   },
   "outputs": [
    {
     "name": "stdout",
     "output_type": "stream",
     "text": [
      "<Response [200]>\n"
     ]
    }
   ],
   "source": [
    "print(response)"
   ]
  },
  {
   "cell_type": "markdown",
   "metadata": {
    "id": "TfGgbjM8oX5O"
   },
   "source": []
  },
  {
   "cell_type": "code",
   "execution_count": null,
   "metadata": {
    "colab": {
     "base_uri": "https://localhost:8080/",
     "height": 71
    },
    "id": "miloes3roZbd",
    "outputId": "9e8cf0cf-ff82-452e-a95c-4fa7a29fd39f"
   },
   "outputs": [
    {
     "name": "stdout",
     "output_type": "stream",
     "text": [
      "https://deckofcardsapi.com/api/deck/kyqckzvat0wf/draw/?count=2\n",
      "{\"success\": true, \"deck_id\": \"kyqckzvat0wf\", \"cards\": [{\"code\": \"3S\", \"image\": \"https://deckofcardsapi.com/static/img/3S.png\", \"images\": {\"svg\": \"https://deckofcardsapi.com/static/img/3S.svg\", \"png\": \"https://deckofcardsapi.com/static/img/3S.png\"}, \"value\": \"3\", \"suit\": \"SPADES\"}, {\"code\": \"4S\", \"image\": \"https://deckofcardsapi.com/static/img/4S.png\", \"images\": {\"svg\": \"https://deckofcardsapi.com/static/img/4S.svg\", \"png\": \"https://deckofcardsapi.com/static/img/4S.png\"}, \"value\": \"4\", \"suit\": \"SPADES\"}], \"remaining\": 48}\n"
     ]
    }
   ],
   "source": [
    "decknumber=response.json()[\"deck_id\"] ### we can extract the deck id\n",
    "draw2url=baseurl+decknumber+\"/draw/?count=2\"   ### now we can take the url, add the deck number, and stuff. \n",
    "print(draw2url)\n",
    "cards = requests.get(draw2url)\n",
    "print(cards.text)"
   ]
  },
  {
   "cell_type": "code",
   "execution_count": null,
   "metadata": {
    "id": "0PYq51deoZPI"
   },
   "outputs": [],
   "source": []
  }
 ],
 "metadata": {
  "colab": {
   "collapsed_sections": [
    "En2yNHclmMdu"
   ],
   "name": "basic rest stuff",
   "provenance": []
  },
  "kernelspec": {
   "display_name": "Python 3",
   "language": "python",
   "name": "python3"
  },
  "language_info": {
   "codemirror_mode": {
    "name": "ipython",
    "version": 3
   },
   "file_extension": ".py",
   "mimetype": "text/x-python",
   "name": "python",
   "nbconvert_exporter": "python",
   "pygments_lexer": "ipython3",
   "version": "3.8.6"
  }
 },
 "nbformat": 4,
 "nbformat_minor": 1
}
