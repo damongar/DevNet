{
  "nbformat": 4,
  "nbformat_minor": 0,
  "metadata": {
    "colab": {
      "name": "basic rest stuff",
      "provenance": [],
      "collapsed_sections": [
        "En2yNHclmMdu"
      ]
    },
    "kernelspec": {
      "name": "python3",
      "display_name": "Python 3"
    }
  },
  "cells": [
    {
      "cell_type": "markdown",
      "metadata": {
        "id": "sIPrCEgSjFYt"
      },
      "source": [
        "# Before you do anything. This should be read only, UNTIL you go to \"file/save a copy in Drive. This will save a r/w copy to YOUR google drive. then you should be able to edit and use this notebook. this is a sample/test for now, please reach out to wnellis@cisco\n",
        "\n",
        "## -----------------------\n",
        "## The format for how this works, is there are 2 cells for each minor step. the first is where I have done it. You can click the triangle to the left of the cell, to run it. Please do not change this part.\n",
        "\n",
        "## The next cell, is where you can type what was done in the cell above, and it should do exactly what was done in the example. you can then run it.\n",
        "## -----------------------\n",
        "\n",
        "## So this is the first step in python. We will import a module called requests, and json. "
      ]
    },
    {
      "cell_type": "code",
      "metadata": {
        "id": "iGVIRf-3jFpk"
      },
      "source": [
        "import requests\n",
        "import json"
      ],
      "execution_count": null,
      "outputs": []
    },
    {
      "cell_type": "code",
      "metadata": {
        "id": "1JbBD-fajF_C"
      },
      "source": [
        "# you do it here"
      ],
      "execution_count": null,
      "outputs": []
    },
    {
      "cell_type": "markdown",
      "metadata": {
        "id": "Yn_W858OjGI3"
      },
      "source": [
        "# The second step we will setup a few items important, like setting the URL. we do this so you dont have to keep retyping it because, we will, fat finger things. so... its better this way\n"
      ]
    },
    {
      "cell_type": "code",
      "metadata": {
        "id": "WqW35LySjGYy",
        "outputId": "c1990a1a-c484-473c-c7cf-613d266f386c",
        "colab": {
          "base_uri": "https://localhost:8080/",
          "height": 34
        }
      },
      "source": [
        "baseurl='https://deckofcardsapi.com/api/deck/'\n",
        "newdeck=baseurl + 'new/'\n",
        "badurl=baseurl+ 'bad/'\n",
        "print('the new deck url is '+newdeck)"
      ],
      "execution_count": null,
      "outputs": [
        {
          "output_type": "stream",
          "text": [
            "the new deck url is https://deckofcardsapi.com/api/deck/new/\n"
          ],
          "name": "stdout"
        }
      ]
    },
    {
      "cell_type": "code",
      "metadata": {
        "id": "zsAgFv4RjGiB"
      },
      "source": [
        "# you do it here"
      ],
      "execution_count": null,
      "outputs": []
    },
    {
      "cell_type": "markdown",
      "metadata": {
        "id": "XRuDI-xRjGxj"
      },
      "source": [
        "\n",
        "\n",
        "\n",
        "# This is how easy it is, to get Python request. we will use the same format w/ Meraki and DNAC at some point (although, they have authentication, so, complexity)"
      ]
    },
    {
      "cell_type": "code",
      "metadata": {
        "id": "CciQ89VnjG6D",
        "outputId": "b119ef48-125e-4908-e84b-0cfa010bcfeb",
        "colab": {
          "base_uri": "https://localhost:8080/",
          "height": 34
        }
      },
      "source": [
        "response=requests.get(newdeck)\n",
        "print(response)"
      ],
      "execution_count": null,
      "outputs": [
        {
          "output_type": "stream",
          "text": [
            "<Response [200]>\n"
          ],
          "name": "stdout"
        }
      ]
    },
    {
      "cell_type": "code",
      "metadata": {
        "id": "37iAzQlIjG-x"
      },
      "source": [
        "# you do it here"
      ],
      "execution_count": null,
      "outputs": []
    },
    {
      "cell_type": "markdown",
      "metadata": {
        "id": "faSDhNB7jHMh"
      },
      "source": [
        "we can look at whats in it, "
      ]
    },
    {
      "cell_type": "code",
      "metadata": {
        "id": "l3cNR0iQlI0O",
        "outputId": "39d838a5-bbba-48ff-fba8-b4811ec304cd",
        "colab": {
          "base_uri": "https://localhost:8080/",
          "height": 34
        }
      },
      "source": [
        "print(response.json())"
      ],
      "execution_count": null,
      "outputs": [
        {
          "output_type": "stream",
          "text": [
            "{\"success\": true, \"deck_id\": \"kyqckzvat0wf\", \"remaining\": 52, \"shuffled\": false}\n"
          ],
          "name": "stdout"
        }
      ]
    },
    {
      "cell_type": "code",
      "metadata": {
        "id": "4XS5iHu9lkGD",
        "outputId": "1a6b484c-8944-48ad-d442-b36c31312452",
        "colab": {
          "base_uri": "https://localhost:8080/",
          "height": 35
        }
      },
      "source": [
        "# ok now you do it\n"
      ],
      "execution_count": null,
      "outputs": [
        {
          "output_type": "execute_result",
          "data": {
            "application/vnd.google.colaboratory.intrinsic+json": {
              "type": "string"
            },
            "text/plain": [
              "'kyqckzvat0wf'"
            ]
          },
          "metadata": {
            "tags": []
          },
          "execution_count": 16
        }
      ]
    },
    {
      "cell_type": "markdown",
      "metadata": {
        "id": "89NLvfmOliY2"
      },
      "source": [
        ""
      ]
    },
    {
      "cell_type": "markdown",
      "metadata": {
        "id": "Mq4DPkcEoJKB"
      },
      "source": [
        "\n",
        "\n",
        "---\n",
        "\n"
      ]
    },
    {
      "cell_type": "markdown",
      "metadata": {
        "id": "En2yNHclmMdu"
      },
      "source": [
        "# That looks great to a robot but it isn't what we need to read easy as humans. so we want to format the json in a pretty format, so we'll do this"
      ]
    },
    {
      "cell_type": "code",
      "metadata": {
        "id": "WUcSf6YGjHXe",
        "outputId": "cb8514e8-6d13-43db-f300-dd4609010ea3",
        "colab": {
          "base_uri": "https://localhost:8080/",
          "height": 289
        }
      },
      "source": [
        "headers = response.headers\n",
        "print(json.dumps(dict(headers), indent=4))   ### This is more complicated than you would probably need for exam, but, this is good practice"
      ],
      "execution_count": null,
      "outputs": [
        {
          "output_type": "stream",
          "text": [
            "{\n",
            "    \"Date\": \"Mon, 10 Aug 2020 18:14:41 GMT\",\n",
            "    \"Content-Type\": \"application/json\",\n",
            "    \"Transfer-Encoding\": \"chunked\",\n",
            "    \"Connection\": \"keep-alive\",\n",
            "    \"Set-Cookie\": \"__cfduid=dba59331ab2be880013857235aaaf7d4f1597083281; expires=Wed, 09-Sep-20 18:14:41 GMT; path=/; domain=.deckofcardsapi.com; HttpOnly; SameSite=Lax\",\n",
            "    \"Access-Control-Allow-Origin\": \"*\",\n",
            "    \"X-Frame-Options\": \"SAMEORIGIN\",\n",
            "    \"Vary\": \"Origin\",\n",
            "    \"CF-Cache-Status\": \"DYNAMIC\",\n",
            "    \"cf-request-id\": \"047b2dffc60000f5b1e99f4200000001\",\n",
            "    \"Expect-CT\": \"max-age=604800, report-uri=\\\"https://report-uri.cloudflare.com/cdn-cgi/beacon/expect-ct\\\"\",\n",
            "    \"Server\": \"cloudflare\",\n",
            "    \"CF-RAY\": \"5c0bb2ac7ab1f5b1-SEA\",\n",
            "    \"Content-Encoding\": \"gzip\"\n",
            "}\n"
          ],
          "name": "stdout"
        }
      ]
    },
    {
      "cell_type": "code",
      "metadata": {
        "id": "LEWVHasCoWx_"
      },
      "source": [
        "# you do it here"
      ],
      "execution_count": null,
      "outputs": []
    },
    {
      "cell_type": "code",
      "metadata": {
        "id": "qN9KmTMZoYII",
        "outputId": "7658ce4e-a1d5-44ff-8906-683358c6091d",
        "colab": {
          "base_uri": "https://localhost:8080/",
          "height": 34
        }
      },
      "source": [
        "print(response)"
      ],
      "execution_count": null,
      "outputs": [
        {
          "output_type": "stream",
          "text": [
            "<Response [200]>\n"
          ],
          "name": "stdout"
        }
      ]
    },
    {
      "cell_type": "markdown",
      "metadata": {
        "id": "TfGgbjM8oX5O"
      },
      "source": [
        ""
      ]
    },
    {
      "cell_type": "code",
      "metadata": {
        "id": "miloes3roZbd",
        "outputId": "9e8cf0cf-ff82-452e-a95c-4fa7a29fd39f",
        "colab": {
          "base_uri": "https://localhost:8080/",
          "height": 71
        }
      },
      "source": [
        "decknumber=response.json()[\"deck_id\"] ### we can extract the deck id\n",
        "draw2url=baseurl+decknumber+\"/draw/?count=2\"   ### now we can take the url, add the deck number, and stuff. \n",
        "print(draw2url)\n",
        "cards = requests.get(draw2url)\n",
        "print(cards.text)"
      ],
      "execution_count": null,
      "outputs": [
        {
          "output_type": "stream",
          "text": [
            "https://deckofcardsapi.com/api/deck/kyqckzvat0wf/draw/?count=2\n",
            "{\"success\": true, \"deck_id\": \"kyqckzvat0wf\", \"cards\": [{\"code\": \"3S\", \"image\": \"https://deckofcardsapi.com/static/img/3S.png\", \"images\": {\"svg\": \"https://deckofcardsapi.com/static/img/3S.svg\", \"png\": \"https://deckofcardsapi.com/static/img/3S.png\"}, \"value\": \"3\", \"suit\": \"SPADES\"}, {\"code\": \"4S\", \"image\": \"https://deckofcardsapi.com/static/img/4S.png\", \"images\": {\"svg\": \"https://deckofcardsapi.com/static/img/4S.svg\", \"png\": \"https://deckofcardsapi.com/static/img/4S.png\"}, \"value\": \"4\", \"suit\": \"SPADES\"}], \"remaining\": 48}\n"
          ],
          "name": "stdout"
        }
      ]
    },
    {
      "cell_type": "code",
      "metadata": {
        "id": "0PYq51deoZPI"
      },
      "source": [
        ""
      ],
      "execution_count": null,
      "outputs": []
    }
  ]
}