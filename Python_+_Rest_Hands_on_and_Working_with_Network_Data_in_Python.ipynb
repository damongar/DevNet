{
  "nbformat": 4,
  "nbformat_minor": 0,
  "metadata": {
    "colab": {
      "name": "Python + Rest Hands on and Working with Network Data in Python",
      "provenance": [],
      "collapsed_sections": [
        "wgdhSXM10LgB"
      ],
      "include_colab_link": true
    },
    "kernelspec": {
      "name": "python3",
      "display_name": "Python 3"
    }
  },
  "cells": [
    {
      "cell_type": "markdown",
      "metadata": {
        "id": "view-in-github",
        "colab_type": "text"
      },
      "source": [
        "<a href=\"https://colab.research.google.com/github/damongar/DevNet/blob/master/Python_%2B_Rest_Hands_on_and_Working_with_Network_Data_in_Python.ipynb\" target=\"_parent\"><img src=\"https://colab.research.google.com/assets/colab-badge.svg\" alt=\"Open In Colab\"/></a>"
      ]
    },
    {
      "cell_type": "markdown",
      "metadata": {
        "id": "WR5DuJIZYdis"
      },
      "source": [
        "\n",
        "#Python + Rest and Hands on Working with Network Data in Python\n",
        "\n",
        "What this is: an interactive notebook which will provide a framework you can keep, that reviews important Python/Rest Items and then works with some DNAC and Meraki data. You will run precanned scripts for the Meraki and DNAC Data, and you will not need to know How to do this.\n",
        "\n",
        "But you will investigate the data from each, and create a consolidated device list of Meraki and DNAC Data through using JSON data and Python dictionaries and lists.\n",
        "\n",
        "----------------------------------------------\n",
        "\n",
        "\n",
        "## Before you even start... You do need a google account. and this is a read only sheet. To make the changes you need to, you need to go to File/Save a copy to drive. You need to use a personal google account. if its a corporate account you may not be able to save to Google drive\n",
        "\n",
        "this works best in chrome. in theory it works in other browsers. in practice, it may or may not.\n",
        "\n",
        "This will give you a Read Write copy, that you can modify.\n",
        "\n",
        "Questions or Comments to William Nellis wnellis@cisco.com"
      ]
    },
    {
      "cell_type": "markdown",
      "metadata": {
        "id": "pMCq5cYusYD6"
      },
      "source": [
        "--------------------\n"
      ]
    },
    {
      "cell_type": "markdown",
      "metadata": {
        "id": "Vq3Kaxwcsk4q"
      },
      "source": [
        "##1.1 Python example applications for Networking."
      ]
    },
    {
      "cell_type": "code",
      "metadata": {
        "id": "ODs_BXSToOLO",
        "outputId": "5be22365-7107-4e10-8f2a-5cc4a2c669ca",
        "colab": {
          "base_uri": "https://localhost:8080/",
          "height": 33
        }
      },
      "source": [
        "print('hello')"
      ],
      "execution_count": null,
      "outputs": [
        {
          "output_type": "stream",
          "text": [
            "hello\n"
          ],
          "name": "stdout"
        }
      ]
    },
    {
      "cell_type": "code",
      "metadata": {
        "id": "v7M7Evc8tW7H",
        "outputId": "4f5277aa-9d8f-4cd3-8bf5-3a1e6ee347a1",
        "colab": {
          "base_uri": "https://localhost:8080/",
          "height": 50
        }
      },
      "source": [
        "### Before we really do much of anything, we need to understand some numbers are Strings. and some are Integers. And that is OK.\n",
        "\n",
        "## For example, run this. mouse over this cell, and hit the run triangle int he upper left corner.\n",
        "\n",
        "\n",
        "color = 'red'\n",
        "bird = 'roadrunner'\n",
        "print('if i want to add two words together it looks like this',color+' '+bird)\n",
        "num1 = 602\n",
        "num2 = 8101312\n",
        "print('when i add two numbers together its 602 and 8101312 :: ',num1+num2)\n",
        "\n"
      ],
      "execution_count": null,
      "outputs": [
        {
          "output_type": "stream",
          "text": [
            "if i want to add two words together it looks like this red roadrunner\n",
            "when i add two numbers together its 602 and 8101312 ::  8101914\n"
          ],
          "name": "stdout"
        }
      ]
    },
    {
      "cell_type": "code",
      "metadata": {
        "id": "blG3CImrtu3c",
        "outputId": "c63500bc-7efd-4a1e-f318-40d7b00e7e91",
        "colab": {
          "base_uri": "https://localhost:8080/",
          "height": 33
        }
      },
      "source": [
        "\n",
        "\n",
        "## That is pretty fancy right? but thats wrong in my context. That is my phone number, you cant reach me at 8101914. \n",
        "\n",
        "## these numbers are strings in this context. we want to concatenate them. We want python to treat them as strings using str(the number)\n",
        "\n",
        "print('my phone number is ',str(num1)+str(num2))\n",
        "\n"
      ],
      "execution_count": null,
      "outputs": [
        {
          "output_type": "stream",
          "text": [
            "my phone number is  6028101312\n"
          ],
          "name": "stdout"
        }
      ]
    },
    {
      "cell_type": "markdown",
      "metadata": {
        "id": "h4GsAFe-u7Bz"
      },
      "source": [
        "-----------\n",
        "### thats great but why would i care? Because BGP AS are also numbers. but we never add them like numbers... for example, this code segment will throw up on you.\n",
        "\n",
        "## Exercise 1.1 - Flags 1 and 2"
      ]
    },
    {
      "cell_type": "code",
      "metadata": {
        "id": "umeB5_IytCly",
        "outputId": "ebdd1147-8560-40f9-83cb-0d3fc9ad5d99",
        "colab": {
          "base_uri": "https://localhost:8080/",
          "height": 175
        }
      },
      "source": [
        "for AS in range(65000,65005):\n",
        "    print(\"router bgp \"+AS)   ############# This will give an error. it is expected, it is the flag."
      ],
      "execution_count": null,
      "outputs": [
        {
          "output_type": "error",
          "ename": "TypeError",
          "evalue": "ignored",
          "traceback": [
            "\u001b[0;31m---------------------------------------------------------------------------\u001b[0m",
            "\u001b[0;31mTypeError\u001b[0m                                 Traceback (most recent call last)",
            "\u001b[0;32m<ipython-input-1-e5a270cc4dd3>\u001b[0m in \u001b[0;36m<module>\u001b[0;34m()\u001b[0m\n\u001b[1;32m      1\u001b[0m \u001b[0;32mfor\u001b[0m \u001b[0mAS\u001b[0m \u001b[0;32min\u001b[0m \u001b[0mrange\u001b[0m\u001b[0;34m(\u001b[0m\u001b[0;36m65000\u001b[0m\u001b[0;34m,\u001b[0m\u001b[0;36m65005\u001b[0m\u001b[0;34m)\u001b[0m\u001b[0;34m:\u001b[0m\u001b[0;34m\u001b[0m\u001b[0;34m\u001b[0m\u001b[0m\n\u001b[0;32m----> 2\u001b[0;31m     \u001b[0mprint\u001b[0m\u001b[0;34m(\u001b[0m\u001b[0;34m\"router bgp \"\u001b[0m\u001b[0;34m+\u001b[0m\u001b[0mAS\u001b[0m\u001b[0;34m)\u001b[0m   \u001b[0;31m############# This will give an error. it is expected, it is the flag.\u001b[0m\u001b[0;34m\u001b[0m\u001b[0;34m\u001b[0m\u001b[0m\n\u001b[0m",
            "\u001b[0;31mTypeError\u001b[0m: must be str, not int"
          ]
        }
      ]
    },
    {
      "cell_type": "code",
      "metadata": {
        "id": "rWOPJtV1vbwA",
        "outputId": "db2edb9e-1ebb-4a10-bfb7-6e79ab5a33fd",
        "colab": {
          "base_uri": "https://localhost:8080/",
          "height": 98
        }
      },
      "source": [
        "\n",
        "\n",
        "## See? Thats disgusting. Don't ever do that again. Lets do this instead. the str(xx) method will convert an integer to a string, (a sequence of numbers)\n",
        "\n",
        "\n",
        "for AS in range(65000,65005):\n",
        "  print(\"router bgp \"+str(AS))\n",
        "\n",
        "  ### Correlary, if you ever read in a \"string\" of numbers, and want to do math on it, convert it back to integer by doing int()"
      ],
      "execution_count": null,
      "outputs": [
        {
          "output_type": "stream",
          "text": [
            "router bgp 65000\n",
            "router bgp 65001\n",
            "router bgp 65002\n",
            "router bgp 65003\n",
            "router bgp 65004\n"
          ],
          "name": "stdout"
        }
      ]
    },
    {
      "cell_type": "markdown",
      "metadata": {
        "id": "29gJdFWnwBiS"
      },
      "source": [
        "----------------------------\n",
        "\n",
        "\n",
        "### 1.2 Basic Python stuff, for loops.\n",
        "\n",
        "----------------------\n",
        "\n",
        "For loops will be used many times so understanding basics is good. We'll use an example of generating a list of IP Addresses to Ping.\n",
        "\n",
        "As you can see in the BGP Example, when using the range command, there are two values \n",
        "- Start value\n",
        "- stop value\n",
        "\n",
        "the for loop will check BEFORE executing the last value. so if you do \n",
        "for i in range(1,5):\n",
        "  print(i)\n",
        "\n",
        "  it will stop at 5 BEFORE executing the code... so basically, the last iteration is 4.\n"
      ]
    },
    {
      "cell_type": "code",
      "metadata": {
        "id": "3rYLJVtdX3G-",
        "outputId": "276ad057-282f-4e38-d428-42b7e2eda475",
        "colab": {
          "base_uri": "https://localhost:8080/",
          "height": 82
        }
      },
      "source": [
        "for i in range(1,5):\n",
        "  print(i)"
      ],
      "execution_count": null,
      "outputs": [
        {
          "output_type": "stream",
          "text": [
            "1\n",
            "2\n",
            "3\n",
            "4\n"
          ],
          "name": "stdout"
        }
      ]
    },
    {
      "cell_type": "markdown",
      "metadata": {
        "id": "2ayDjTUkX-u_"
      },
      "source": [
        "--------------------\n",
        "So if we wanted a range of IP that went 1 to 254... we'd need to... go to... you know... modify the below code to make it work."
      ]
    },
    {
      "cell_type": "code",
      "metadata": {
        "id": "SWqfaumvYKcp",
        "outputId": "e312bb03-5476-4952-ca87-65e46ded5aad",
        "colab": {
          "base_uri": "https://localhost:8080/",
          "height": 1000
        }
      },
      "source": [
        "# flag below!\n",
        "\n",
        "for octet4 in range(1,254):               # we call it octet 4 because later we may do octet 3 \n",
        "  print(\"ping ip 10.1.1.\"+str(octet4))    # remember the \"string cheese incident\" form above?\n",
        "    # we have to convert the number to string (like above) or things dont work well when we add the number into the string."
      ],
      "execution_count": null,
      "outputs": [
        {
          "output_type": "stream",
          "text": [
            "ping ip 10.1.1.1\n",
            "ping ip 10.1.1.2\n",
            "ping ip 10.1.1.3\n",
            "ping ip 10.1.1.4\n",
            "ping ip 10.1.1.5\n",
            "ping ip 10.1.1.6\n",
            "ping ip 10.1.1.7\n",
            "ping ip 10.1.1.8\n",
            "ping ip 10.1.1.9\n",
            "ping ip 10.1.1.10\n",
            "ping ip 10.1.1.11\n",
            "ping ip 10.1.1.12\n",
            "ping ip 10.1.1.13\n",
            "ping ip 10.1.1.14\n",
            "ping ip 10.1.1.15\n",
            "ping ip 10.1.1.16\n",
            "ping ip 10.1.1.17\n",
            "ping ip 10.1.1.18\n",
            "ping ip 10.1.1.19\n",
            "ping ip 10.1.1.20\n",
            "ping ip 10.1.1.21\n",
            "ping ip 10.1.1.22\n",
            "ping ip 10.1.1.23\n",
            "ping ip 10.1.1.24\n",
            "ping ip 10.1.1.25\n",
            "ping ip 10.1.1.26\n",
            "ping ip 10.1.1.27\n",
            "ping ip 10.1.1.28\n",
            "ping ip 10.1.1.29\n",
            "ping ip 10.1.1.30\n",
            "ping ip 10.1.1.31\n",
            "ping ip 10.1.1.32\n",
            "ping ip 10.1.1.33\n",
            "ping ip 10.1.1.34\n",
            "ping ip 10.1.1.35\n",
            "ping ip 10.1.1.36\n",
            "ping ip 10.1.1.37\n",
            "ping ip 10.1.1.38\n",
            "ping ip 10.1.1.39\n",
            "ping ip 10.1.1.40\n",
            "ping ip 10.1.1.41\n",
            "ping ip 10.1.1.42\n",
            "ping ip 10.1.1.43\n",
            "ping ip 10.1.1.44\n",
            "ping ip 10.1.1.45\n",
            "ping ip 10.1.1.46\n",
            "ping ip 10.1.1.47\n",
            "ping ip 10.1.1.48\n",
            "ping ip 10.1.1.49\n",
            "ping ip 10.1.1.50\n",
            "ping ip 10.1.1.51\n",
            "ping ip 10.1.1.52\n",
            "ping ip 10.1.1.53\n",
            "ping ip 10.1.1.54\n",
            "ping ip 10.1.1.55\n",
            "ping ip 10.1.1.56\n",
            "ping ip 10.1.1.57\n",
            "ping ip 10.1.1.58\n",
            "ping ip 10.1.1.59\n",
            "ping ip 10.1.1.60\n",
            "ping ip 10.1.1.61\n",
            "ping ip 10.1.1.62\n",
            "ping ip 10.1.1.63\n",
            "ping ip 10.1.1.64\n",
            "ping ip 10.1.1.65\n",
            "ping ip 10.1.1.66\n",
            "ping ip 10.1.1.67\n",
            "ping ip 10.1.1.68\n",
            "ping ip 10.1.1.69\n",
            "ping ip 10.1.1.70\n",
            "ping ip 10.1.1.71\n",
            "ping ip 10.1.1.72\n",
            "ping ip 10.1.1.73\n",
            "ping ip 10.1.1.74\n",
            "ping ip 10.1.1.75\n",
            "ping ip 10.1.1.76\n",
            "ping ip 10.1.1.77\n",
            "ping ip 10.1.1.78\n",
            "ping ip 10.1.1.79\n",
            "ping ip 10.1.1.80\n",
            "ping ip 10.1.1.81\n",
            "ping ip 10.1.1.82\n",
            "ping ip 10.1.1.83\n",
            "ping ip 10.1.1.84\n",
            "ping ip 10.1.1.85\n",
            "ping ip 10.1.1.86\n",
            "ping ip 10.1.1.87\n",
            "ping ip 10.1.1.88\n",
            "ping ip 10.1.1.89\n",
            "ping ip 10.1.1.90\n",
            "ping ip 10.1.1.91\n",
            "ping ip 10.1.1.92\n",
            "ping ip 10.1.1.93\n",
            "ping ip 10.1.1.94\n",
            "ping ip 10.1.1.95\n",
            "ping ip 10.1.1.96\n",
            "ping ip 10.1.1.97\n",
            "ping ip 10.1.1.98\n",
            "ping ip 10.1.1.99\n",
            "ping ip 10.1.1.100\n",
            "ping ip 10.1.1.101\n",
            "ping ip 10.1.1.102\n",
            "ping ip 10.1.1.103\n",
            "ping ip 10.1.1.104\n",
            "ping ip 10.1.1.105\n",
            "ping ip 10.1.1.106\n",
            "ping ip 10.1.1.107\n",
            "ping ip 10.1.1.108\n",
            "ping ip 10.1.1.109\n",
            "ping ip 10.1.1.110\n",
            "ping ip 10.1.1.111\n",
            "ping ip 10.1.1.112\n",
            "ping ip 10.1.1.113\n",
            "ping ip 10.1.1.114\n",
            "ping ip 10.1.1.115\n",
            "ping ip 10.1.1.116\n",
            "ping ip 10.1.1.117\n",
            "ping ip 10.1.1.118\n",
            "ping ip 10.1.1.119\n",
            "ping ip 10.1.1.120\n",
            "ping ip 10.1.1.121\n",
            "ping ip 10.1.1.122\n",
            "ping ip 10.1.1.123\n",
            "ping ip 10.1.1.124\n",
            "ping ip 10.1.1.125\n",
            "ping ip 10.1.1.126\n",
            "ping ip 10.1.1.127\n",
            "ping ip 10.1.1.128\n",
            "ping ip 10.1.1.129\n",
            "ping ip 10.1.1.130\n",
            "ping ip 10.1.1.131\n",
            "ping ip 10.1.1.132\n",
            "ping ip 10.1.1.133\n",
            "ping ip 10.1.1.134\n",
            "ping ip 10.1.1.135\n",
            "ping ip 10.1.1.136\n",
            "ping ip 10.1.1.137\n",
            "ping ip 10.1.1.138\n",
            "ping ip 10.1.1.139\n",
            "ping ip 10.1.1.140\n",
            "ping ip 10.1.1.141\n",
            "ping ip 10.1.1.142\n",
            "ping ip 10.1.1.143\n",
            "ping ip 10.1.1.144\n",
            "ping ip 10.1.1.145\n",
            "ping ip 10.1.1.146\n",
            "ping ip 10.1.1.147\n",
            "ping ip 10.1.1.148\n",
            "ping ip 10.1.1.149\n",
            "ping ip 10.1.1.150\n",
            "ping ip 10.1.1.151\n",
            "ping ip 10.1.1.152\n",
            "ping ip 10.1.1.153\n",
            "ping ip 10.1.1.154\n",
            "ping ip 10.1.1.155\n",
            "ping ip 10.1.1.156\n",
            "ping ip 10.1.1.157\n",
            "ping ip 10.1.1.158\n",
            "ping ip 10.1.1.159\n",
            "ping ip 10.1.1.160\n",
            "ping ip 10.1.1.161\n",
            "ping ip 10.1.1.162\n",
            "ping ip 10.1.1.163\n",
            "ping ip 10.1.1.164\n",
            "ping ip 10.1.1.165\n",
            "ping ip 10.1.1.166\n",
            "ping ip 10.1.1.167\n",
            "ping ip 10.1.1.168\n",
            "ping ip 10.1.1.169\n",
            "ping ip 10.1.1.170\n",
            "ping ip 10.1.1.171\n",
            "ping ip 10.1.1.172\n",
            "ping ip 10.1.1.173\n",
            "ping ip 10.1.1.174\n",
            "ping ip 10.1.1.175\n",
            "ping ip 10.1.1.176\n",
            "ping ip 10.1.1.177\n",
            "ping ip 10.1.1.178\n",
            "ping ip 10.1.1.179\n",
            "ping ip 10.1.1.180\n",
            "ping ip 10.1.1.181\n",
            "ping ip 10.1.1.182\n",
            "ping ip 10.1.1.183\n",
            "ping ip 10.1.1.184\n",
            "ping ip 10.1.1.185\n",
            "ping ip 10.1.1.186\n",
            "ping ip 10.1.1.187\n",
            "ping ip 10.1.1.188\n",
            "ping ip 10.1.1.189\n",
            "ping ip 10.1.1.190\n",
            "ping ip 10.1.1.191\n",
            "ping ip 10.1.1.192\n",
            "ping ip 10.1.1.193\n",
            "ping ip 10.1.1.194\n",
            "ping ip 10.1.1.195\n",
            "ping ip 10.1.1.196\n",
            "ping ip 10.1.1.197\n",
            "ping ip 10.1.1.198\n",
            "ping ip 10.1.1.199\n",
            "ping ip 10.1.1.200\n",
            "ping ip 10.1.1.201\n",
            "ping ip 10.1.1.202\n",
            "ping ip 10.1.1.203\n",
            "ping ip 10.1.1.204\n",
            "ping ip 10.1.1.205\n",
            "ping ip 10.1.1.206\n",
            "ping ip 10.1.1.207\n",
            "ping ip 10.1.1.208\n",
            "ping ip 10.1.1.209\n",
            "ping ip 10.1.1.210\n",
            "ping ip 10.1.1.211\n",
            "ping ip 10.1.1.212\n",
            "ping ip 10.1.1.213\n",
            "ping ip 10.1.1.214\n",
            "ping ip 10.1.1.215\n",
            "ping ip 10.1.1.216\n",
            "ping ip 10.1.1.217\n",
            "ping ip 10.1.1.218\n",
            "ping ip 10.1.1.219\n",
            "ping ip 10.1.1.220\n",
            "ping ip 10.1.1.221\n",
            "ping ip 10.1.1.222\n",
            "ping ip 10.1.1.223\n",
            "ping ip 10.1.1.224\n",
            "ping ip 10.1.1.225\n",
            "ping ip 10.1.1.226\n",
            "ping ip 10.1.1.227\n",
            "ping ip 10.1.1.228\n",
            "ping ip 10.1.1.229\n",
            "ping ip 10.1.1.230\n",
            "ping ip 10.1.1.231\n",
            "ping ip 10.1.1.232\n",
            "ping ip 10.1.1.233\n",
            "ping ip 10.1.1.234\n",
            "ping ip 10.1.1.235\n",
            "ping ip 10.1.1.236\n",
            "ping ip 10.1.1.237\n",
            "ping ip 10.1.1.238\n",
            "ping ip 10.1.1.239\n",
            "ping ip 10.1.1.240\n",
            "ping ip 10.1.1.241\n",
            "ping ip 10.1.1.242\n",
            "ping ip 10.1.1.243\n",
            "ping ip 10.1.1.244\n",
            "ping ip 10.1.1.245\n",
            "ping ip 10.1.1.246\n",
            "ping ip 10.1.1.247\n",
            "ping ip 10.1.1.248\n",
            "ping ip 10.1.1.249\n",
            "ping ip 10.1.1.250\n",
            "ping ip 10.1.1.251\n",
            "ping ip 10.1.1.252\n",
            "ping ip 10.1.1.253\n"
          ],
          "name": "stdout"
        }
      ]
    },
    {
      "cell_type": "markdown",
      "metadata": {
        "id": "7wNzfMUMY4uv"
      },
      "source": [
        "------------------------ \n",
        "\n",
        "In addition to doing range stuff we may also do lists... like below."
      ]
    },
    {
      "cell_type": "code",
      "metadata": {
        "id": "ruD0s6IXZAJe"
      },
      "source": [
        "for interface in [\"gig0/1\",\"gig0/2\",\"tengig1/0\"]:\n",
        "  print('interface '+ interface)\n",
        "  print('shutdown')\n",
        "\n",
        "  ## if you notice it does do all of them, its only the range command that has the \"add one extra because its \"up to, not including\""
      ],
      "execution_count": null,
      "outputs": []
    },
    {
      "cell_type": "code",
      "metadata": {
        "id": "OsgBtQCcpCOC"
      },
      "source": [
        ""
      ],
      "execution_count": null,
      "outputs": []
    },
    {
      "cell_type": "markdown",
      "metadata": {
        "id": "HSgoeC3iY_Wr"
      },
      "source": [
        "--------------------\n",
        "\n",
        "Nested loop\n",
        "those are cool. Sometimes you will want to nest a loop. this is an example of that that you can modify to get another flag. "
      ]
    },
    {
      "cell_type": "code",
      "metadata": {
        "id": "ra6QLzgBZvya",
        "outputId": "93b2e086-56e8-44b9-8343-4a6a0224c02c",
        "colab": {
          "base_uri": "https://localhost:8080/",
          "height": 191
        }
      },
      "source": [
        "### To make the below print a ping script for everything in range 10.1.1.1 - 10.1.3.254, we need to change TWO lines below. \n",
        "####### Flag\n",
        "for octet3 in range(1,4):\n",
        "  for octet4 in range(1,4):\n",
        "    print('ping 10.1.'+str(octet3)+'.'+octet4)"
      ],
      "execution_count": null,
      "outputs": [
        {
          "output_type": "error",
          "ename": "TypeError",
          "evalue": "ignored",
          "traceback": [
            "\u001b[0;31m---------------------------------------------------------------------------\u001b[0m",
            "\u001b[0;31mTypeError\u001b[0m                                 Traceback (most recent call last)",
            "\u001b[0;32m<ipython-input-9-06e749ba30f7>\u001b[0m in \u001b[0;36m<module>\u001b[0;34m()\u001b[0m\n\u001b[1;32m      3\u001b[0m \u001b[0;32mfor\u001b[0m \u001b[0moctet3\u001b[0m \u001b[0;32min\u001b[0m \u001b[0mrange\u001b[0m\u001b[0;34m(\u001b[0m\u001b[0;36m1\u001b[0m\u001b[0;34m,\u001b[0m\u001b[0;36m4\u001b[0m\u001b[0;34m)\u001b[0m\u001b[0;34m:\u001b[0m\u001b[0;34m\u001b[0m\u001b[0;34m\u001b[0m\u001b[0m\n\u001b[1;32m      4\u001b[0m   \u001b[0;32mfor\u001b[0m \u001b[0moctet4\u001b[0m \u001b[0;32min\u001b[0m \u001b[0mrange\u001b[0m\u001b[0;34m(\u001b[0m\u001b[0;36m1\u001b[0m\u001b[0;34m,\u001b[0m\u001b[0;36m4\u001b[0m\u001b[0;34m)\u001b[0m\u001b[0;34m:\u001b[0m\u001b[0;34m\u001b[0m\u001b[0;34m\u001b[0m\u001b[0m\n\u001b[0;32m----> 5\u001b[0;31m     \u001b[0mprint\u001b[0m\u001b[0;34m(\u001b[0m\u001b[0;34m'ping 10.1.'\u001b[0m\u001b[0;34m+\u001b[0m\u001b[0mstr\u001b[0m\u001b[0;34m(\u001b[0m\u001b[0moctet3\u001b[0m\u001b[0;34m)\u001b[0m\u001b[0;34m+\u001b[0m\u001b[0;34m'.'\u001b[0m\u001b[0;34m+\u001b[0m\u001b[0moctet4\u001b[0m\u001b[0;34m)\u001b[0m\u001b[0;34m\u001b[0m\u001b[0;34m\u001b[0m\u001b[0m\n\u001b[0m",
            "\u001b[0;31mTypeError\u001b[0m: must be str, not int"
          ]
        }
      ]
    },
    {
      "cell_type": "markdown",
      "metadata": {
        "id": "V5CgIguEqufK"
      },
      "source": [
        "##2.1 - Get some DNAC Data and make meaning of it.\n",
        "\n",
        "If for some reason Sandbox is under maint (sandboxdnac has maint 9/26-9/29), load data at end of this lab"
      ]
    },
    {
      "cell_type": "code",
      "metadata": {
        "id": "dL3GAJTHYXS0"
      },
      "source": [
        "\n",
        "import requests\n",
        "from requests.auth import HTTPBasicAuth\n",
        "import json\n",
        "\n",
        "\n",
        "### Get a token, specific to DNAC,\n",
        "DNAC='sandboxdnac.cisco.com'\n",
        "DNAC_USER='devnetuser'\n",
        "DNAC_PASSWORD='Cisco123!'\n",
        "INTENT_API = \"https://sandboxdnac.cisco.com/dna/intent/api/v1/\"\n",
        "\n",
        "url = 'https://sandboxdnac.cisco.com/dna/system/api/v1/auth/token'\n",
        "resp = requests.post(url, auth=HTTPBasicAuth(DNAC_USER, DNAC_PASSWORD),verify=False)\n",
        "print(resp.text)      #<<<<<<<<<<< You should see your token)\n",
        "token = resp.json()['Token']   # We set our token. \n",
        "\n",
        "\n",
        "## Token = Authentication, \n",
        "url = INTENT_API+\"network-device\"   # we set our new URL to get devices\n",
        "hdr={'x-auth-token': token}         #we set our header. this is the token format for DNAC.\n",
        "resp = requests.get(url, headers=hdr,verify=False)\n",
        "dnac_list = resp.json()\n",
        "print(json.dumps(dnac_list,indent=2))\n",
        "\n"
      ],
      "execution_count": null,
      "outputs": []
    },
    {
      "cell_type": "code",
      "metadata": {
        "id": "5lNsG0EHpIUv"
      },
      "source": [
        "## Modify the below to replace \"roleSource\" with the platformId json key. paste the output for the 3850, into the flag. \n",
        "######## Flag\n",
        "\n",
        "for device in dnac_list['response']:\n",
        "\tprint(device['hostname'],device['softwareVersion'],device['roleSource'])"
      ],
      "execution_count": null,
      "outputs": []
    },
    {
      "cell_type": "markdown",
      "metadata": {
        "id": "dH-TEkxUqpGi"
      },
      "source": [
        "==============\n",
        "==============\n",
        "\n",
        "## 3.1 Get Some Meraki Data and make meaning of it.\n",
        "\n",
        "## If you get rate limit based API issues, wait a minute, and try again. \n",
        "\n",
        "If you DONT WANT TO WAIT... Go to the end of this notebook and it will statically load the data from exercise 3.1, so that everything else will work. This is a workaround. The code works, so well we're rate limited."
      ]
    },
    {
      "cell_type": "markdown",
      "metadata": {
        "id": "x3CHVvq7FeaS"
      },
      "source": [
        "## Interesting note. All our Rest based systems use basically the same format.\n",
        " URAH - \"U R A HUMAN\" for URL, Request library, Authentication, and Header for getting data. See below for how easy it is to get information from Meraki. (Webex teams is the same, different URL and Authentication)"
      ]
    },
    {
      "cell_type": "code",
      "metadata": {
        "id": "sh3-DDkgqoYW"
      },
      "source": [
        "# Exercise 3.1\n",
        "\n",
        "### This is all you need to get information from Meraki or webex teams\n",
        "TOKEN = '6bec40cf957de430a6f1f2baa056b99a4fac9ea0'  ### Authentication\n",
        "URL=\"https://api.meraki.com/api/v0/organizations/549236/networks/L_646829496481105433/devices\"  # URL\n",
        "\n",
        "HDR={'X-Cisco-Meraki-API-Key': TOKEN}   #### This is the meraki header needed, - HEADER\n",
        "\n",
        "NETWORKS=requests.get(URL,headers=HDR)  ### do you see how easy this is, you have the URL, the authentication, and the header. Now we just do a request.\n",
        "\n",
        "########### Thats it. The below lines really format it so you can read it\n",
        "\n",
        "\n",
        "NET_JSON=json.loads(NETWORKS.text)\n",
        "print(json.dumps(NET_JSON,indent=2))\n"
      ],
      "execution_count": null,
      "outputs": []
    },
    {
      "cell_type": "markdown",
      "metadata": {
        "id": "vHd2OamgHued"
      },
      "source": [
        "### The below works just fine to create a list with Model and Firmware and Lattitude, which makes it basically worthless. \n",
        "Look above at the meraki Json output, and you want to chose a Json key that will print an IP for each device... it should be the \"most consistent key\" for all the meraki devices. \n",
        "### Fix the report to print \"model, firmware, IP Address\"  note one device may not have one... :( but at least two will !\n"
      ]
    },
    {
      "cell_type": "code",
      "metadata": {
        "id": "6p1Vor-OGiIK"
      },
      "source": [
        "## This basically is the same as Section 2.2. \n",
        "## Hint, if you choose the WRONG IP key from above list (wan1Ip, etc...) your code will error out. because not all devices have a Wan Ip... you know?\n",
        "meraki_list=NET_JSON\n",
        "for device in meraki_list:\n",
        "\tprint(device['model'],device['firmware'],device['lat'])"
      ],
      "execution_count": null,
      "outputs": []
    },
    {
      "cell_type": "markdown",
      "metadata": {
        "id": "J0d2kbRTohqe"
      },
      "source": [
        "=========================\n",
        "=========================\n",
        "\n",
        "\n",
        "###4 creating a single list of IP of all meraki and dnac devices to use as a Seedfile.\n",
        "\n",
        "You can play with this, or just execute this. This is meant to just show you how you \"can\". For example, you can comment out the \"if device lanIp\" line and de indent the print device LanIp line to see the \"none\" pop up. "
      ]
    },
    {
      "cell_type": "code",
      "metadata": {
        "id": "bsNHKaVuog7a"
      },
      "source": [
        "for device in dnac_list['response']:\n",
        "  print(device['managementIpAddress'])\n",
        "for device in meraki_list:\n",
        "  if (device['lanIp']):    #### If you see the above for one of the devices it has a null lanIp. this isn't a string like \"None\" or \"null\", its boolean no. its blank. so we check to see if its present.\n",
        "    print(device['lanIp'])\n",
        "print(\"this concludes getting a single seedfile list from dnac and meraki\")\n",
        "print('this is pretty trivial when dealing with 5 - 10 IP. but useful when you have \"lots of stuff\"')\n",
        "print(\"mission accomplished\")\n",
        "\n"
      ],
      "execution_count": null,
      "outputs": []
    },
    {
      "cell_type": "markdown",
      "metadata": {
        "id": "y7wCZoyRogex"
      },
      "source": [
        "Is the Mission Accomplished?\n"
      ]
    },
    {
      "cell_type": "markdown",
      "metadata": {
        "id": "p2p0D504xvvY"
      },
      "source": [
        "Do you need the Meraki Data Loaded because a lot of SE are doing the same thing?\n"
      ]
    },
    {
      "cell_type": "markdown",
      "metadata": {
        "id": "wgdhSXM10LgB"
      },
      "source": [
        "# APPENDIX... To Manually load and see the Meraki Data or DNAC, click the below box :)\n",
        "\n",
        "if you are doing this, this is the exact data you would get if the API rate limiters let you. Use this output for the first meraki flag, and you can complete the rest of the mission from here."
      ]
    },
    {
      "cell_type": "code",
      "metadata": {
        "id": "pdQ3lloMyPXe"
      },
      "source": [
        "null=None\n",
        "NETWORKS2=json.loads('[{\"lat\":37.4180951010362,\"lng\":-122.098531723022,\"address\":\"\",\"serial\":\"Q2QN-9J8L-SLPD\",\"mac\":\"e0:55:3d:17:d4:23\",\"wan1Ip\":\"10.10.10.116\",\"wan2Ip\":null,\"lanIp\":\"10.10.10.116\",\"url\":\"https://n149.meraki.com/DevNet-Sandbox-A/n/9tIK5cvc/manage/nodes/new_list/246656701813795\",\"networkId\":\"L_646829496481105433\",\"model\":\"MX65\",\"firmware\":\"wired-14-42\",\"floorPlanId\":null},{\"lat\":-6.97817626419744,\"lng\":107.631476116217,\"address\":\"Puri Kharisma\",\"serial\":\"Q2MD-BHHS-5FDL\",\"mac\":\"88:15:44:60:21:10\",\"lanIp\":null,\"url\":\"https://n149.meraki.com/DevNet-Sandbox-A/n/raXeAcvc/manage/nodes/new_list/149624922841360\",\"networkId\":\"L_646829496481105433\",\"name\":\"Testing-Devnet\",\"model\":\"MR53\",\"firmware\":\"wireless-26-6-1\",\"floorPlanId\":null},{\"lat\":37.4180951010362,\"lng\":-122.098531723022,\"address\":\"\",\"serial\":\"Q2HP-F5K5-R88R\",\"mac\":\"88:15:44:df:f3:af\",\"lanIp\":\"192.168.128.2\",\"url\":\"https://n149.meraki.com/DevNet-Sandbox-A/n/EFZ1Davc/manage/nodes/new_list/149624931218351\",\"networkId\":\"L_646829496481105433\",\"model\":\"MS220-8P\",\"switchProfileId\":null,\"firmware\":\"switch-11-31\",\"floorPlanId\":null}]')\n",
        "NET_JSON=NETWORKS2\n",
        "print(json.dumps(NET_JSON,indent=2))"
      ],
      "execution_count": null,
      "outputs": []
    },
    {
      "cell_type": "markdown",
      "metadata": {
        "id": "UseNkH9V6OnP"
      },
      "source": [
        "### DNAC DATA"
      ]
    },
    {
      "cell_type": "code",
      "metadata": {
        "id": "-YVO5d2zy1p-"
      },
      "source": [
        "null=None\n",
        "\n",
        "dnac_list={'response': [{'apManagerInterfaceIp': '',\n",
        "   'associatedWlcIp': '',\n",
        "   'bootDateTime': '2020-08-17 07:29:42',\n",
        "   'collectionInterval': 'Global Default',\n",
        "   'collectionStatus': 'Managed',\n",
        "   'deviceSupportLevel': 'Supported',\n",
        "   'errorCode': None,\n",
        "   'errorDescription': None,\n",
        "   'family': 'Routers',\n",
        "   'hostname': 'asr1001-x.abc.inc',\n",
        "   'id': '1cfd383a-7265-47fb-96b3-f069191a0ed5',\n",
        "   'instanceTenantId': '5dc444d31485c5004c0fb20b',\n",
        "   'instanceUuid': '1cfd383a-7265-47fb-96b3-f069191a0ed5',\n",
        "   'interfaceCount': '0',\n",
        "   'inventoryStatusDetail': '<status><general code=\"SUCCESS\"/></status>',\n",
        "   'lastUpdateTime': 1601245842986,\n",
        "   'lastUpdated': '2020-09-27 22:30:42',\n",
        "   'lineCardCount': '0',\n",
        "   'lineCardId': '',\n",
        "   'location': None,\n",
        "   'locationName': None,\n",
        "   'macAddress': '00:c8:8b:80:bb:00',\n",
        "   'managementIpAddress': '10.10.22.253',\n",
        "   'memorySize': 'NA',\n",
        "   'platformId': 'ASR1001-X',\n",
        "   'reachabilityFailureReason': '',\n",
        "   'reachabilityStatus': 'Reachable',\n",
        "   'role': 'BORDER ROUTER',\n",
        "   'roleSource': 'AUTO',\n",
        "   'serialNumber': 'FXS1932Q1SE',\n",
        "   'series': 'Cisco ASR 1000 Series Aggregation Services Routers',\n",
        "   'snmpContact': '',\n",
        "   'snmpLocation': '',\n",
        "   'softwareType': 'IOS-XE',\n",
        "   'softwareVersion': '16.3.2',\n",
        "   'tagCount': '0',\n",
        "   'tunnelUdpPort': None,\n",
        "   'type': 'Cisco ASR 1001-X Router',\n",
        "   'upTime': '41 days, 15:01:53.65',\n",
        "   'waasDeviceMode': None},\n",
        "  {'apManagerInterfaceIp': '',\n",
        "   'associatedWlcIp': '',\n",
        "   'bootDateTime': '2020-08-17 07:30:58',\n",
        "   'collectionInterval': 'Global Default',\n",
        "   'collectionStatus': 'Managed',\n",
        "   'deviceSupportLevel': 'Supported',\n",
        "   'errorCode': None,\n",
        "   'errorDescription': None,\n",
        "   'family': 'Switches and Hubs',\n",
        "   'hostname': 'cat_9k_1.abc.inc',\n",
        "   'id': '21335daf-f5a1-4e97-970f-ce4eaec339f6',\n",
        "   'instanceTenantId': '5dc444d31485c5004c0fb20b',\n",
        "   'instanceUuid': '21335daf-f5a1-4e97-970f-ce4eaec339f6',\n",
        "   'interfaceCount': '0',\n",
        "   'inventoryStatusDetail': '<status><general code=\"SUCCESS\"/></status>',\n",
        "   'lastUpdateTime': 1601246338464,\n",
        "   'lastUpdated': '2020-09-27 22:38:58',\n",
        "   'lineCardCount': '0',\n",
        "   'lineCardId': '',\n",
        "   'location': None,\n",
        "   'locationName': None,\n",
        "   'macAddress': 'f8:7b:20:67:62:80',\n",
        "   'managementIpAddress': '10.10.22.66',\n",
        "   'memorySize': 'NA',\n",
        "   'platformId': 'C9300-24UX',\n",
        "   'reachabilityFailureReason': '',\n",
        "   'reachabilityStatus': 'Reachable',\n",
        "   'role': 'ACCESS',\n",
        "   'roleSource': 'AUTO',\n",
        "   'serialNumber': 'FCW2136L0AK',\n",
        "   'series': 'Cisco Catalyst 9300 Series Switches',\n",
        "   'snmpContact': '',\n",
        "   'snmpLocation': '',\n",
        "   'softwareType': 'IOS-XE',\n",
        "   'softwareVersion': '16.6.4a',\n",
        "   'tagCount': '0',\n",
        "   'tunnelUdpPort': None,\n",
        "   'type': 'Cisco Catalyst 9300 Switch',\n",
        "   'upTime': '41 days, 15:08:08.26',\n",
        "   'waasDeviceMode': None},\n",
        "  {'apManagerInterfaceIp': '',\n",
        "   'associatedWlcIp': '',\n",
        "   'bootDateTime': '2020-08-17 07:31:47',\n",
        "   'collectionInterval': 'Global Default',\n",
        "   'collectionStatus': 'Managed',\n",
        "   'deviceSupportLevel': 'Supported',\n",
        "   'errorCode': None,\n",
        "   'errorDescription': None,\n",
        "   'family': 'Switches and Hubs',\n",
        "   'hostname': 'cat_9k_2.abc.inc',\n",
        "   'id': '3e48558a-237a-4bca-8823-0580b88c6acf',\n",
        "   'instanceTenantId': '5dc444d31485c5004c0fb20b',\n",
        "   'instanceUuid': '3e48558a-237a-4bca-8823-0580b88c6acf',\n",
        "   'interfaceCount': '0',\n",
        "   'inventoryStatusDetail': '<status><general code=\"SUCCESS\"/></status>',\n",
        "   'lastUpdateTime': 1601246327416,\n",
        "   'lastUpdated': '2020-09-27 22:38:47',\n",
        "   'lineCardCount': '0',\n",
        "   'lineCardId': '',\n",
        "   'location': None,\n",
        "   'locationName': None,\n",
        "   'macAddress': 'f8:7b:20:71:4d:80',\n",
        "   'managementIpAddress': '10.10.22.70',\n",
        "   'memorySize': 'NA',\n",
        "   'platformId': 'C9300-24UX',\n",
        "   'reachabilityFailureReason': '',\n",
        "   'reachabilityStatus': 'Reachable',\n",
        "   'role': 'ACCESS',\n",
        "   'roleSource': 'AUTO',\n",
        "   'serialNumber': 'FCW2140L039',\n",
        "   'series': 'Cisco Catalyst 9300 Series Switches',\n",
        "   'snmpContact': '',\n",
        "   'snmpLocation': '',\n",
        "   'softwareType': 'IOS-XE',\n",
        "   'softwareVersion': '16.6.4a',\n",
        "   'tagCount': '0',\n",
        "   'tunnelUdpPort': None,\n",
        "   'type': 'Cisco Catalyst 9300 Switch',\n",
        "   'upTime': '41 days, 15:07:20.50',\n",
        "   'waasDeviceMode': None},\n",
        "  {'apManagerInterfaceIp': '',\n",
        "   'associatedWlcIp': '',\n",
        "   'bootDateTime': '2020-08-17 07:33:06',\n",
        "   'collectionInterval': 'Global Default',\n",
        "   'collectionStatus': 'Managed',\n",
        "   'deviceSupportLevel': 'Supported',\n",
        "   'errorCode': None,\n",
        "   'errorDescription': None,\n",
        "   'family': 'Switches and Hubs',\n",
        "   'hostname': 'cs3850.abc.inc',\n",
        "   'id': 'de6477ad-22a2-4daa-9941-eb61cecefb34',\n",
        "   'instanceTenantId': '5dc444d31485c5004c0fb20b',\n",
        "   'instanceUuid': 'de6477ad-22a2-4daa-9941-eb61cecefb34',\n",
        "   'interfaceCount': '0',\n",
        "   'inventoryStatusDetail': '<status><general code=\"SUCCESS\"/></status>',\n",
        "   'lastUpdateTime': 1601249466805,\n",
        "   'lastUpdated': '2020-09-27 23:31:06',\n",
        "   'lineCardCount': '0',\n",
        "   'lineCardId': '',\n",
        "   'location': None,\n",
        "   'locationName': None,\n",
        "   'macAddress': 'cc:d8:c1:15:d2:80',\n",
        "   'managementIpAddress': '10.10.22.73',\n",
        "   'memorySize': 'NA',\n",
        "   'platformId': 'WS-C3850-48U-E',\n",
        "   'reachabilityFailureReason': '',\n",
        "   'reachabilityStatus': 'Reachable',\n",
        "   'role': 'DISTRIBUTION',\n",
        "   'roleSource': 'AUTO',\n",
        "   'serialNumber': 'FOC1833X0AR',\n",
        "   'series': 'Cisco Catalyst 3850 Series Ethernet Stackable Switch',\n",
        "   'snmpContact': '',\n",
        "   'snmpLocation': '',\n",
        "   'softwareType': 'IOS-XE',\n",
        "   'softwareVersion': '16.6.2s',\n",
        "   'tagCount': '0',\n",
        "   'tunnelUdpPort': None,\n",
        "   'type': 'Cisco Catalyst38xx stack-able ethernet switch',\n",
        "   'upTime': '41 days, 15:58:33.95',\n",
        "   'waasDeviceMode': None}],\n",
        " 'version': '1.0'}"
      ],
      "execution_count": null,
      "outputs": []
    },
    {
      "cell_type": "code",
      "metadata": {
        "id": "6JiYOSvv4Hi7"
      },
      "source": [
        "dnac_list\n"
      ],
      "execution_count": null,
      "outputs": []
    },
    {
      "cell_type": "code",
      "metadata": {
        "id": "jy4Omy__4vK0"
      },
      "source": [
        ""
      ],
      "execution_count": null,
      "outputs": []
    }
  ]
}